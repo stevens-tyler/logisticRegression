{
 "cells": [
  {
   "cell_type": "markdown",
   "metadata": {
    "collapsed": false
   },
   "source": [
    "## Final Projects: \n",
    "For the Math 157 Final Project, you will:\n",
    "\n",
    "- Write a 40-50 minute lecture on your chosen topic, consisting of\n",
    "    - An exposition of some of the mathematical *theory* surrounding your topic\n",
    "    - A discussion of how that topic can be studied *computationally*, using Sage/Python or some other computing platform\n",
    "        - This discussion must include examples of code snippets that run and produce output\n",
    "        - These code snippets should highlight the theory\n",
    "    - An *application* of this mathematical topic to the real world\n",
    "    - At least one \"Participation Check\" (a short, interactive ~2 minute exercise)\n",
    "        - Note: You *do not* have to solve your groupmate's participation checks\n",
    "    - How you choose to split up your time between these three topics is up to you! You have to have *some* aspects of everything. \n",
    "    - Remember that your *target audience* is a member of this class. Please do not assume any \"unreasonable\" prerequisites; most new concepts will have to be (at least briefly) introduced in your lecture.\n",
    "- Write a \"mini-homework\" consisting of\n",
    "    - Two questions, roughly at the level of the questions you have been solving this quarter\n",
    "    - Solutions to those questions\n",
    "    - Note: you *do not* have to solve your groupmate's homework exercises\n",
    "- Present your lectures in groups of ~3\n",
    "    - You can set up this presentation at whatever time is convenient for your group\n",
    "    - The easiest way to do this is probably screensharing over Zoom\n",
    "    - This is meant to be a low pressure introduction to the art of mathematical presentation. As such, you will be expected to treat your groupmates with respect during their presentations\n",
    "- Write short feedback for each of your groupmate's presentations, consisting of\n",
    "    - A *short* summary of their topic (Which topic did they present on? What were the key ideas or applications?)\n",
    "    - One thing that *you liked* about their presentation\n",
    "    - One (respectfully worded) piece of constructive criticism/idea for what they could improve on for \"next time\"\n",
    "    \n",
    "How you choose to spend your time in your lecture is up to you! Some people will prefer to focus more on the theory, other people will want to rush through the theory and get to the applications. Both methods are ok, as long as you don't skip any of the three requirements entirely!\n",
    "\n",
    "Links will be provided to you as *places to start* learning about your topic. You are free to take it in whatever direction you want!\n",
    "\n",
    "Examples from last year will be provided, to give you an idea of what your project should look like when it is done (you can also model your lectures off of one of the lectures from the class!)"
   ]
  },
  {
   "cell_type": "markdown",
   "metadata": {
    "collapsed": false
   },
   "source": [
    "## Logistics\n",
    "For your project to be graded: in *this directory* you will need to create 3 new files:\n",
    "- A file \"presentation-xxxxxx.ipynb\" where xxxxxx is your student ID, i.e. your email is `xxxxxx@ucsd.edu`\n",
    "    - This file should contain your final presentation on your topic. At *the end of your presentation* please include your homework questions and their solutions\n",
    "- For each of your groupmates, a file \"feedback-xxxxxx-yyyyyy.txt\" where as before your email is `xxxxxx@ucsd.edu` and *their email* is `yyyyyy@ucsd.edu`\n",
    "    - If your group has 3 members total, you will have two feedback files.\n",
    "    - These files contain the \"feedback\" that you had on their presentation (see above).\n",
    "    \n",
    "To present your project you will organize amongst your group to find a time that works for you all. \n",
    "- You can present your projects \"all at once\" in a ~2.5 hr session, or you can \"split them up\" and do one presentation at a time for 3 different days. Completely up to you!\n",
    "- I recommend *setting up/confirming a plan* with your group by Friday, March 12th at the latest. \n",
    "    - If you are having trouble contacting/scheduling with members of your group, please email me. "
   ]
  },
  {
   "cell_type": "markdown",
   "metadata": {
    "collapsed": false
   },
   "source": [
    "## Grading criteria\n",
    "Your grade on the final project will be broken down as such:\n",
    " - Presentation (55%):\n",
    "   - Extent: Did you include enough material for 40-50 minutes? Is your material at a suitable depth (mathematically and computationally) for this class?\n",
    "   - Topic coverage:\n",
    "        - Did you present some relevant mathematics?\n",
    "        - Did you make a genuine link between the mathematics and computations regarding this math?\n",
    "        - Did you mention an application of this topic to the real world?\n",
    "   - Correctness: Do your examples work?\n",
    "   - Exposition: Does your text actually explain what is going on?\n",
    "   - Did you include a participation check?\n",
    " - Exercises and solutions (30%):\n",
    "   - Extent: Did you include enough material for two exercises? Is your material at a suitable depth (mathematically and computationally) for this course?\n",
    "   - Correctness: Are your solutions correct?\n",
    "   - Exposition: Do your problems serve to elucidate your chosen topic?\n",
    " - Feedback (15%):\n",
    "   - Thoroughness: Did you provide comments on all of your assigned presentations?\n",
    "   - Thoughtfulness: Were you paying attention? Are your comments germane and constructive?\n",
    "\n",
    "### Due Date: The Final Project will be collected on Wednesday, March 17th.\n",
    "Your last homework for the class will be due on March 4th. This will leave Week 10 and part of Finals Week for you to work on the project and present, although you are welcome (and encouraged!) to work on it before then."
   ]
  },
  {
   "cell_type": "code",
   "execution_count": 0,
   "metadata": {
    "collapsed": false
   },
   "outputs": [
   ],
   "source": [
   ]
  }
 ],
 "metadata": {
  "kernelspec": {
   "display_name": "Python 3 (system-wide)",
   "language": "python",
   "metadata": {
    "cocalc": {
     "description": "Python 3 programming language",
     "priority": 100,
     "url": "https://www.python.org/"
    }
   },
   "name": "python3",
   "resource_dir": "/ext/jupyter/kernels/python3"
  }
 },
 "nbformat": 4,
 "nbformat_minor": 4
}